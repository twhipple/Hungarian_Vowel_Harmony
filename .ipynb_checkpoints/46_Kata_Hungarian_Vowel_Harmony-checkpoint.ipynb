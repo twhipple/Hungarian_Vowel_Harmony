{
 "cells": [
  {
   "cell_type": "markdown",
   "metadata": {},
   "source": [
    "# Hungarian Vowel Harmony"
   ]
  },
  {
   "cell_type": "markdown",
   "metadata": {},
   "source": [
    "In this Repo I will attempt to code one of the CodeWars Katas - Hungarian Vowel Harmony. This was a great kata. I like how it introduced me to a language concept that I was not familiar with and doesn't exist in English. Plus, I enjoyed how I was able to create this word ending using Python and coding!"
   ]
  },
  {
   "cell_type": "raw",
   "metadata": {},
   "source": [
    "Vowel harmony is a phenomenon in some languages. It means that \"A vowel or vowels in a word are changed to sound the same (thus \"in harmony.\")\" (wikipedia). This kata is based on vowel harmony in Hungarian.\n",
    "\n",
    "Task:\n",
    "Your goal is to create a function dative() (Dative() in C#) which returns the valid form of a valid Hungarian word w in dative case i. e. append the correct suffix nek or nak to the word w based on vowel harmony rules.\n",
    "\n",
    "Preconditions:\n",
    "To keep it simple: All words end with a consonant :)\n",
    "All strings are unicode strings.\n",
    "There are no grammatical exceptions in the tests."
   ]
  },
  {
   "cell_type": "raw",
   "metadata": {},
   "source": [
    "Vowel Harmony Rules (simplified)\n",
    "When the last vowel in the word is\n",
    "\n",
    "a front vowel (e, é, i, í, ö, ő, ü, ű) the suffix is -nek\n",
    "a back vowel (a, á, o, ó, u, ú) the suffix is -nak"
   ]
  },
  {
   "cell_type": "code",
   "execution_count": 3,
   "metadata": {},
   "outputs": [],
   "source": [
    "def dative(word):\n",
    "    pass"
   ]
  },
  {
   "cell_type": "code",
   "execution_count": 4,
   "metadata": {},
   "outputs": [],
   "source": [
    "# Examples:\n",
    "dative(\"ablak\") # \"ablaknak\"\n",
    "dative(\"szék\") # \"széknek\"\n",
    "dative(\"otthon\") # \"otthonnak\""
   ]
  },
  {
   "cell_type": "markdown",
   "metadata": {},
   "source": [
    "# My Code"
   ]
  },
  {
   "cell_type": "code",
   "execution_count": 5,
   "metadata": {},
   "outputs": [],
   "source": [
    "word1 = 'ablak'\n",
    "word2 = 'szék'"
   ]
  },
  {
   "cell_type": "code",
   "execution_count": 38,
   "metadata": {},
   "outputs": [],
   "source": [
    "front_v = ('e', 'é', 'i', 'í', 'ö', 'ő', 'ü', 'ű')\n",
    "back_v = ('a', 'á', 'o', 'ó', 'u', 'ú')"
   ]
  },
  {
   "cell_type": "code",
   "execution_count": 23,
   "metadata": {},
   "outputs": [],
   "source": [
    "front_v = ['e', 'é', 'i', 'í', 'ö', 'ő', 'ü', 'ű']"
   ]
  },
  {
   "cell_type": "code",
   "execution_count": 11,
   "metadata": {},
   "outputs": [],
   "source": [
    "front_s = 'nek'\n",
    "back_s = 'nak'"
   ]
  },
  {
   "cell_type": "code",
   "execution_count": 12,
   "metadata": {},
   "outputs": [
    {
     "data": {
      "text/plain": [
       "'kalba'"
      ]
     },
     "execution_count": 12,
     "metadata": {},
     "output_type": "execute_result"
    }
   ],
   "source": [
    "word1[::-1]"
   ]
  },
  {
   "cell_type": "code",
   "execution_count": 13,
   "metadata": {},
   "outputs": [
    {
     "data": {
      "text/plain": [
       "'kézs'"
      ]
     },
     "execution_count": 13,
     "metadata": {},
     "output_type": "execute_result"
    }
   ],
   "source": [
    "word2[::-1]"
   ]
  },
  {
   "cell_type": "code",
   "execution_count": 14,
   "metadata": {},
   "outputs": [
    {
     "data": {
      "text/plain": [
       "'ablaknak'"
      ]
     },
     "execution_count": 14,
     "metadata": {},
     "output_type": "execute_result"
    }
   ],
   "source": [
    "word1 + back_s"
   ]
  },
  {
   "cell_type": "code",
   "execution_count": 15,
   "metadata": {},
   "outputs": [
    {
     "data": {
      "text/plain": [
       "'széknek'"
      ]
     },
     "execution_count": 15,
     "metadata": {},
     "output_type": "execute_result"
    }
   ],
   "source": [
    "word2 + front_s"
   ]
  },
  {
   "cell_type": "code",
   "execution_count": 16,
   "metadata": {},
   "outputs": [
    {
     "name": "stdout",
     "output_type": "stream",
     "text": [
      "k\n",
      "a\n",
      "l\n",
      "b\n",
      "a\n"
     ]
    }
   ],
   "source": [
    "for c in word1[::-1]:\n",
    "    print(c)"
   ]
  },
  {
   "cell_type": "code",
   "execution_count": 45,
   "metadata": {},
   "outputs": [
    {
     "name": "stdout",
     "output_type": "stream",
     "text": [
      "not in back_v\n",
      "a\n",
      "not in back_v\n",
      "not in back_v\n",
      "a\n"
     ]
    }
   ],
   "source": [
    "for c in word1[::-1]:\n",
    "    if (c in back_v):\n",
    "        print(c)\n",
    "    else:\n",
    "        print('not in back_v')"
   ]
  },
  {
   "cell_type": "code",
   "execution_count": 46,
   "metadata": {},
   "outputs": [
    {
     "name": "stdout",
     "output_type": "stream",
     "text": [
      "not in back_v\n",
      "ablaknak\n",
      "not in back_v\n",
      "not in back_v\n",
      "ablaknak\n"
     ]
    }
   ],
   "source": [
    "for c in word1[::-1]:\n",
    "    if (c in back_v):\n",
    "        print(word1 + back_s)\n",
    "    else:\n",
    "        print('not in back_v')"
   ]
  },
  {
   "cell_type": "code",
   "execution_count": 47,
   "metadata": {},
   "outputs": [
    {
     "name": "stdout",
     "output_type": "stream",
     "text": [
      "not in back_v\n",
      "not in front_v\n",
      "ablaknak\n",
      "not in front_v\n",
      "not in back_v\n",
      "not in front_v\n",
      "not in back_v\n",
      "not in front_v\n",
      "ablaknak\n",
      "not in front_v\n"
     ]
    }
   ],
   "source": [
    "for c in word1[::-1]:\n",
    "    if (c in back_v):\n",
    "        print(word1 + back_s)\n",
    "    else:\n",
    "        print('not in back_v')\n",
    "    if (c in front_v):\n",
    "        print(word1 + front_s)\n",
    "    else:\n",
    "        print('not in front_v')"
   ]
  },
  {
   "cell_type": "code",
   "execution_count": 50,
   "metadata": {},
   "outputs": [
    {
     "name": "stdout",
     "output_type": "stream",
     "text": [
      "ablaknak\n",
      "ablaknak\n"
     ]
    }
   ],
   "source": [
    "for c in word1[::-1]:\n",
    "    if (c in back_v):\n",
    "        print(word1 + back_s)\n",
    "    else:\n",
    "        pass\n",
    "    if (c in front_v):\n",
    "        print(word1 + front_s)\n",
    "    else:\n",
    "        pass"
   ]
  },
  {
   "cell_type": "code",
   "execution_count": 52,
   "metadata": {},
   "outputs": [
    {
     "name": "stdout",
     "output_type": "stream",
     "text": [
      "széknek\n"
     ]
    }
   ],
   "source": [
    "for c in word2[::-1]:\n",
    "    if (c in back_v):\n",
    "        print(word2 + back_s)\n",
    "        break\n",
    "    else:\n",
    "        pass\n",
    "    if (c in front_v):\n",
    "        print(word2 + front_s)\n",
    "    else:\n",
    "        pass"
   ]
  },
  {
   "cell_type": "code",
   "execution_count": 79,
   "metadata": {},
   "outputs": [],
   "source": [
    "# Final Solution that worked!\n",
    "def dative(word):    \n",
    "    front_v = ('e', 'é', 'i', 'í', 'ö', 'ő', 'ü', 'ű')\n",
    "    back_v = ('a', 'á', 'o', 'ó', 'u', 'ú')\n",
    "    front_s = 'nek'\n",
    "    back_s = 'nak'\n",
    "\n",
    "    for c in word[::-1]:\n",
    "        if (c in back_v):\n",
    "            return word + back_s\n",
    "            break\n",
    "        else:\n",
    "            pass\n",
    "        if (c in front_v):\n",
    "            return word + front_s\n",
    "            break\n",
    "        else:\n",
    "            pass"
   ]
  },
  {
   "cell_type": "code",
   "execution_count": 74,
   "metadata": {},
   "outputs": [],
   "source": [
    "# After completion, I tweeked my solution a bit\n",
    "def dative(word):    \n",
    "    front_v = ('e', 'é', 'i', 'í', 'ö', 'ő', 'ü', 'ű')\n",
    "    back_v = ('a', 'á', 'o', 'ó', 'u', 'ú')\n",
    "    for c in word[::-1]:\n",
    "        if (c in back_v):\n",
    "            return word + 'nak'\n",
    "        if (c in front_v):\n",
    "            return word + 'nek'"
   ]
  },
  {
   "cell_type": "code",
   "execution_count": 75,
   "metadata": {},
   "outputs": [
    {
     "data": {
      "text/plain": [
       "'ablaknak'"
      ]
     },
     "execution_count": 75,
     "metadata": {},
     "output_type": "execute_result"
    }
   ],
   "source": [
    "dative(\"ablak\") # \"ablaknak\""
   ]
  },
  {
   "cell_type": "code",
   "execution_count": 76,
   "metadata": {},
   "outputs": [
    {
     "data": {
      "text/plain": [
       "'széknek'"
      ]
     },
     "execution_count": 76,
     "metadata": {},
     "output_type": "execute_result"
    }
   ],
   "source": [
    "dative(\"szék\") # \"széknek\""
   ]
  },
  {
   "cell_type": "code",
   "execution_count": 77,
   "metadata": {},
   "outputs": [
    {
     "data": {
      "text/plain": [
       "'otthonnak'"
      ]
     },
     "execution_count": 77,
     "metadata": {},
     "output_type": "execute_result"
    }
   ],
   "source": [
    "dative(\"otthon\") # \"otthonnak\""
   ]
  },
  {
   "cell_type": "markdown",
   "metadata": {},
   "source": [
    "# Solutions"
   ]
  },
  {
   "cell_type": "code",
   "execution_count": 66,
   "metadata": {},
   "outputs": [],
   "source": [
    "def dative(word):\n",
    "    for c in word[::-1]:\n",
    "        if c in 'eéiíöőüű':\n",
    "            return word+'nek'\n",
    "        elif c in 'aáoóuú':\n",
    "            return word+'nak'"
   ]
  },
  {
   "cell_type": "code",
   "execution_count": null,
   "metadata": {},
   "outputs": [],
   "source": [
    "# -*- coding: utf-8 -*-\n",
    "def dative(word):\n",
    "    end = [x for x in word[::-1] if x in u'eéiíöőüűaáoóuú'][0]\n",
    "    return word + \"nek\" if end in u'eéiíöőüű' else word + \"nak\""
   ]
  },
  {
   "cell_type": "code",
   "execution_count": null,
   "metadata": {},
   "outputs": [],
   "source": [
    "m = dict(dict.fromkeys('eéiíöőüű', 'nek'), **dict.fromkeys('aáoóuú', 'nak'))\n",
    "\n",
    "def dative(word):\n",
    "    return word + m[next(c for c in word[::-1] if c in m)]"
   ]
  }
 ],
 "metadata": {
  "kernelspec": {
   "display_name": "learn-env",
   "language": "python",
   "name": "learn-env"
  },
  "language_info": {
   "codemirror_mode": {
    "name": "ipython",
    "version": 3
   },
   "file_extension": ".py",
   "mimetype": "text/x-python",
   "name": "python",
   "nbconvert_exporter": "python",
   "pygments_lexer": "ipython3",
   "version": "3.6.9"
  },
  "toc": {
   "base_numbering": 1,
   "nav_menu": {},
   "number_sections": true,
   "sideBar": true,
   "skip_h1_title": false,
   "title_cell": "Table of Contents",
   "title_sidebar": "Contents",
   "toc_cell": false,
   "toc_position": {},
   "toc_section_display": true,
   "toc_window_display": false
  }
 },
 "nbformat": 4,
 "nbformat_minor": 4
}
